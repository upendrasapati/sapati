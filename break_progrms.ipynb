{
  "nbformat": 4,
  "nbformat_minor": 0,
  "metadata": {
    "colab": {
      "name": "break progrms.ipynb",
      "provenance": [],
      "authorship_tag": "ABX9TyPlJQzWFqXBzpGdxe0X5gDg",
      "include_colab_link": true
    },
    "kernelspec": {
      "name": "python3",
      "display_name": "Python 3"
    },
    "language_info": {
      "name": "python"
    }
  },
  "cells": [
    {
      "cell_type": "markdown",
      "metadata": {
        "id": "view-in-github",
        "colab_type": "text"
      },
      "source": [
        "<a href=\"https://colab.research.google.com/github/upendrasapati/sapati/blob/main/break_progrms.ipynb\" target=\"_parent\"><img src=\"https://colab.research.google.com/assets/colab-badge.svg\" alt=\"Open In Colab\"/></a>"
      ]
    },
    {
      "cell_type": "markdown",
      "metadata": {
        "id": "cPyZy-quUabA"
      },
      "source": [
        "# A CODE FOR \"BREAK\" *STATMENT*"
      ]
    },
    {
      "cell_type": "code",
      "metadata": {
        "colab": {
          "base_uri": "https://localhost:8080/"
        },
        "id": "nlI-zoiZUTuo",
        "outputId": "f68c91a7-d751-4d16-9820-474577914aad"
      },
      "source": [
        "cart=[10,20,600,60,70]\n",
        "for item in cart:\n",
        "    if item>500:\n",
        "        print(\"insurance must be done\")\n",
        "        break\n",
        "    print(item)"
      ],
      "execution_count": null,
      "outputs": [
        {
          "output_type": "stream",
          "name": "stdout",
          "text": [
            "10\n",
            "20\n",
            "insurance must be done\n"
          ]
        }
      ]
    },
    {
      "cell_type": "code",
      "metadata": {
        "id": "OiksKLRHV0p4"
      },
      "source": [
        ""
      ],
      "execution_count": null,
      "outputs": []
    },
    {
      "cell_type": "markdown",
      "metadata": {
        "id": "rOfBlYaGV2ff"
      },
      "source": [
        "code to generate right angle traingle"
      ]
    },
    {
      "cell_type": "code",
      "metadata": {
        "colab": {
          "base_uri": "https://localhost:8080/"
        },
        "id": "7BM3vc13V8LJ",
        "outputId": "6b9d7087-cd76-424b-f27d-58817d44c0e1"
      },
      "source": [
        "n=int(input(\"enter no of rows\"))\n",
        "for i in range(1,n+1):\n",
        "  for j in range(1,i+1):\n",
        "    print(\"*\",end=\"\")\n",
        "  print()"
      ],
      "execution_count": null,
      "outputs": [
        {
          "output_type": "stream",
          "name": "stdout",
          "text": [
            "enter no of rows5\n",
            "*\n",
            "**\n",
            "***\n",
            "****\n",
            "*****\n"
          ]
        }
      ]
    },
    {
      "cell_type": "markdown",
      "metadata": {
        "id": "ZnxZ_YruUsGC"
      },
      "source": [
        "# CODE2 FOR \"BREAK\""
      ]
    },
    {
      "cell_type": "code",
      "metadata": {
        "colab": {
          "base_uri": "https://localhost:8080/"
        },
        "id": "u2kVJwfvVCgB",
        "outputId": "dee66b7b-ff48-4ca5-e8aa-7f9882612fe7"
      },
      "source": [
        "for i in range(10):\n",
        "  if(i==8):\n",
        "    print(\"processing is enough break\")\n",
        "    break\n",
        "  print(i)"
      ],
      "execution_count": null,
      "outputs": [
        {
          "output_type": "stream",
          "name": "stdout",
          "text": [
            "0\n",
            "1\n",
            "2\n",
            "3\n",
            "4\n",
            "5\n",
            "6\n",
            "7\n",
            "processing is enough break\n"
          ]
        }
      ]
    },
    {
      "cell_type": "code",
      "metadata": {
        "id": "c1EiwlhhWrOx"
      },
      "source": [
        ""
      ],
      "execution_count": null,
      "outputs": []
    },
    {
      "cell_type": "markdown",
      "metadata": {
        "id": "r81Rt153Wr3m"
      },
      "source": [
        "code for **\"continue \"\\**"
      ]
    },
    {
      "cell_type": "code",
      "metadata": {
        "colab": {
          "base_uri": "https://localhost:8080/"
        },
        "id": "OREiAjBbXu-q",
        "outputId": "a3f3ed16-5c0c-4f86-8554-ad3be209eb10"
      },
      "source": [
        "for i in range(10):\n",
        "  if i%2==0:\n",
        "    continue\n",
        "  print(i)"
      ],
      "execution_count": null,
      "outputs": [
        {
          "output_type": "stream",
          "name": "stdout",
          "text": [
            "1\n",
            "3\n",
            "5\n",
            "7\n",
            "9\n"
          ]
        }
      ]
    },
    {
      "cell_type": "code",
      "metadata": {
        "colab": {
          "base_uri": "https://localhost:8080/"
        },
        "id": "FiJEVESBYOhP",
        "outputId": "e87e3873-fab1-4391-f2a2-037c688aff2d"
      },
      "source": [
        "cart=[10,20,500,700,70,60]\n",
        "for item in cart:\n",
        "  if item>=500:\n",
        "    print(\"insurance required\",item)\n",
        "    continue\n",
        "  print(item)"
      ],
      "execution_count": null,
      "outputs": [
        {
          "output_type": "stream",
          "name": "stdout",
          "text": [
            "10\n",
            "20\n",
            "insurance required 500\n",
            "insurance required 700\n",
            "70\n",
            "60\n"
          ]
        }
      ]
    },
    {
      "cell_type": "code",
      "metadata": {
        "id": "UxcBy8eDYTy0"
      },
      "source": [
        "import pandas as pd\n",
        "df=pd.read(\"data1.excel\")\n",
        "df.head()"
      ],
      "execution_count": null,
      "outputs": []
    }
  ]
}