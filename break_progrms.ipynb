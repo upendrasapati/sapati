{
  "nbformat": 4,
  "nbformat_minor": 0,
  "metadata": {
    "colab": {
      "name": "break progrms.ipynb",
      "provenance": [],
      "authorship_tag": "ABX9TyO6ejUSczMkG0Ez7jtyeKZz",
      "include_colab_link": true
    },
    "kernelspec": {
      "name": "python3",
      "display_name": "Python 3"
    },
    "language_info": {
      "name": "python"
    }
  },
  "cells": [
    {
      "cell_type": "markdown",
      "metadata": {
        "id": "view-in-github",
        "colab_type": "text"
      },
      "source": [
        "<a href=\"https://colab.research.google.com/github/upendrasapati/sapati/blob/main/break_progrms.ipynb\" target=\"_parent\"><img src=\"https://colab.research.google.com/assets/colab-badge.svg\" alt=\"Open In Colab\"/></a>"
      ]
    },
    {
      "cell_type": "markdown",
      "metadata": {
        "id": "cPyZy-quUabA"
      },
      "source": [
        "# A CODE FOR \"BREAK\" *STATMENT*"
      ]
    },
    {
      "cell_type": "code",
      "metadata": {
        "colab": {
          "base_uri": "https://localhost:8080/"
        },
        "id": "nlI-zoiZUTuo",
        "outputId": "f68c91a7-d751-4d16-9820-474577914aad"
      },
      "source": [
        "cart=[10,20,600,60,70]\n",
        "for item in cart:\n",
        "    if item>500:\n",
        "        print(\"insurance must be done\")\n",
        "        break\n",
        "    print(item)"
      ],
      "execution_count": 1,
      "outputs": [
        {
          "output_type": "stream",
          "name": "stdout",
          "text": [
            "10\n",
            "20\n",
            "insurance must be done\n"
          ]
        }
      ]
    },
    {
      "cell_type": "markdown",
      "metadata": {
        "id": "ZnxZ_YruUsGC"
      },
      "source": [
        "# CODE2 FOR \"BREAK\""
      ]
    },
    {
      "cell_type": "code",
      "metadata": {
        "colab": {
          "base_uri": "https://localhost:8080/"
        },
        "id": "u2kVJwfvVCgB",
        "outputId": "dee66b7b-ff48-4ca5-e8aa-7f9882612fe7"
      },
      "source": [
        "for i in range(10):\n",
        "  if(i==8):\n",
        "    print(\"processing is enough break\")\n",
        "    break\n",
        "  print(i)"
      ],
      "execution_count": 4,
      "outputs": [
        {
          "output_type": "stream",
          "name": "stdout",
          "text": [
            "0\n",
            "1\n",
            "2\n",
            "3\n",
            "4\n",
            "5\n",
            "6\n",
            "7\n",
            "processing is enough break\n"
          ]
        }
      ]
    }
  ]
}