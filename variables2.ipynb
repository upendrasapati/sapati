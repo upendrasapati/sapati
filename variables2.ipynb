{
  "nbformat": 4,
  "nbformat_minor": 0,
  "metadata": {
    "colab": {
      "name": "variables2.ipynb",
      "provenance": [],
      "authorship_tag": "ABX9TyOVYV2r5uobn9SvBcHY5CXk",
      "include_colab_link": true
    },
    "kernelspec": {
      "name": "python3",
      "display_name": "Python 3"
    },
    "language_info": {
      "name": "python"
    }
  },
  "cells": [
    {
      "cell_type": "markdown",
      "metadata": {
        "id": "view-in-github",
        "colab_type": "text"
      },
      "source": [
        "<a href=\"https://colab.research.google.com/github/upendrasapati/sapati/blob/main/variables2.ipynb\" target=\"_parent\"><img src=\"https://colab.research.google.com/assets/colab-badge.svg\" alt=\"Open In Colab\"/></a>"
      ]
    },
    {
      "cell_type": "code",
      "execution_count": 3,
      "metadata": {
        "colab": {
          "base_uri": "https://localhost:8080/"
        },
        "id": "ZGDEJoeX46y6",
        "outputId": "849783ac-4117-4399-e8bb-50a91b031c22"
      },
      "outputs": [
        {
          "output_type": "stream",
          "name": "stdout",
          "text": [
            "1140\n",
            "10.363636363636363\n"
          ]
        }
      ],
      "source": [
        "#code for finding the no of books can purchase\n",
        "a=200\n",
        "b=300\n",
        "c=600\n",
        "d=40\n",
        "t=a+b+c+d\n",
        "print(t)\n",
        "noofbooks=t/110\n",
        "print(noofbooks)\n"
      ]
    },
    {
      "cell_type": "code",
      "source": [
        "x=int(input(\"enter value: for x\"))\n",
        "for i in range (1,x):\n",
        "  i=i+1\n",
        "  print(\"im a fool\")\n"
      ],
      "metadata": {
        "colab": {
          "base_uri": "https://localhost:8080/"
        },
        "id": "-UQ-1g6j6PUB",
        "outputId": "2e579564-4c35-445e-9dc3-310d38dc1893"
      },
      "execution_count": 14,
      "outputs": [
        {
          "output_type": "stream",
          "name": "stdout",
          "text": [
            "enter value: for x10\n",
            "im a fool\n",
            "im a fool\n",
            "im a fool\n",
            "im a fool\n",
            "im a fool\n",
            "im a fool\n",
            "im a fool\n",
            "im a fool\n",
            "im a fool\n"
          ]
        }
      ]
    },
    {
      "cell_type": "code",
      "source": [
        "sum=10\n",
        "def calculate():\n",
        "    csum=200\n",
        "    tsum=sum+csum\n",
        "    print(tsum)\n",
        "calculate()\n",
        "    "
      ],
      "metadata": {
        "colab": {
          "base_uri": "https://localhost:8080/"
        },
        "id": "4LU8LRFr-lBD",
        "outputId": "3a288a4b-b9e1-44f8-c545-ff17005ea297"
      },
      "execution_count": 21,
      "outputs": [
        {
          "output_type": "stream",
          "name": "stdout",
          "text": [
            "210\n"
          ]
        }
      ]
    },
    {
      "cell_type": "code",
      "source": [
        "sum=10\n",
        "def calculate():\n",
        "    global sum\n",
        "    csum= sum+200\n",
        "    tsum=sum+csum\n",
        "    print(tsum)\n",
        "calculate()\n",
        "print(sum)\n",
        "    "
      ],
      "metadata": {
        "colab": {
          "base_uri": "https://localhost:8080/"
        },
        "id": "6m-pO6Ev_7sI",
        "outputId": "a8e8e45e-d2c1-4a41-9ca1-1125457ef632"
      },
      "execution_count": 24,
      "outputs": [
        {
          "output_type": "stream",
          "name": "stdout",
          "text": [
            "220\n",
            "10\n"
          ]
        }
      ]
    },
    {
      "cell_type": "code",
      "source": [
        "pin,cash=input('enter ur cash').split('$$')\n",
        "cashValue=int(cash)\n",
        "#print(type(cashValue))\n",
        "atmamount=50000\n",
        "remainamount=atmamount-cashValue\n",
        "#print('take ur cash',cash,remainamount,sep=\"-->\",end=\"===\")\n",
        "#print('thank you',end=\"\\t\")\n",
        "print('take your cash{},balance in your account is{}'.format(cashValue,remainamount),sep='-->',end=\"===\")"
      ],
      "metadata": {
        "colab": {
          "base_uri": "https://localhost:8080/"
        },
        "id": "yVfE61DGCu1V",
        "outputId": "87d7d518-12a3-41b9-8acd-69f7b08bd0cb"
      },
      "execution_count": 47,
      "outputs": [
        {
          "output_type": "stream",
          "name": "stdout",
          "text": [
            "enter ur cash1234$$23909\n",
            "take your cash23909,balance in your account is26091==="
          ]
        }
      ]
    },
    {
      "cell_type": "code",
      "source": [
        ""
      ],
      "metadata": {
        "id": "v1eO_-w2RpyM"
      },
      "execution_count": null,
      "outputs": []
    },
    {
      "cell_type": "markdown",
      "source": [
        "*programs on operators*"
      ],
      "metadata": {
        "id": "2cu30HJpRqiv"
      }
    },
    {
      "cell_type": "code",
      "source": [
        "a=7\n",
        "b=3\n",
        "print('subtraction',a/b)\n",
        "print('subtraction with flooring',a//b)\n",
        "print('reminder',a%b)\n",
        "print('power of ',a**b)"
      ],
      "metadata": {
        "colab": {
          "base_uri": "https://localhost:8080/"
        },
        "id": "LsSSi37QP_y8",
        "outputId": "158a64c0-9dec-49ae-a22a-1e25a021b313"
      },
      "execution_count": 52,
      "outputs": [
        {
          "output_type": "stream",
          "name": "stdout",
          "text": [
            "subtraction 2.3333333333333335\n",
            "subtraction with flooring 2\n",
            "reminder 1\n",
            "power of  343\n"
          ]
        }
      ]
    },
    {
      "cell_type": "code",
      "source": [
        "a=7\n",
        "b=3\n",
        "print(a==b)\n",
        "print(a<b)\n",
        "print(a>b)\n",
        "print(a!=b)\n",
        "print(b and a)\n",
        "print(a or b)"
      ],
      "metadata": {
        "colab": {
          "base_uri": "https://localhost:8080/"
        },
        "id": "4T5g0nhhTsja",
        "outputId": "6aa291c3-d321-4d92-ddc1-449cfc0431b5"
      },
      "execution_count": 61,
      "outputs": [
        {
          "output_type": "stream",
          "name": "stdout",
          "text": [
            "False\n",
            "False\n",
            "True\n",
            "True\n",
            "7\n",
            "7\n"
          ]
        }
      ]
    },
    {
      "cell_type": "code",
      "source": [
        "a=5\n",
        "b=6\n",
        "a+=b\n",
        "print(a)\n",
        "a-=b\n",
        "print(a)\n",
        "a**=b\n",
        "print(a)"
      ],
      "metadata": {
        "colab": {
          "base_uri": "https://localhost:8080/"
        },
        "id": "cnSTGLD2U7OB",
        "outputId": "1b87caf8-c0c9-4c90-aab4-6df9a3b05497"
      },
      "execution_count": 64,
      "outputs": [
        {
          "output_type": "stream",
          "name": "stdout",
          "text": [
            "11\n",
            "5\n",
            "15625\n"
          ]
        }
      ]
    },
    {
      "cell_type": "code",
      "source": [
        "x=int(input(\"tell your year\"))\n",
        "#age1=int(x)\n",
        "age=2021-x\n",
        "print(\"your age is =\",age)"
      ],
      "metadata": {
        "colab": {
          "base_uri": "https://localhost:8080/"
        },
        "id": "82H5c-UNWjCi",
        "outputId": "c7a9d26d-1f00-40b9-a310-9072b75479de"
      },
      "execution_count": 69,
      "outputs": [
        {
          "output_type": "stream",
          "name": "stdout",
          "text": [
            "tell your age2011\n",
            "your age is = 10\n"
          ]
        }
      ]
    }
  ]
}