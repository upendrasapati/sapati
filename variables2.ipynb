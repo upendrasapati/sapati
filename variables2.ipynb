{
  "nbformat": 4,
  "nbformat_minor": 0,
  "metadata": {
    "colab": {
      "name": "variables2.ipynb",
      "provenance": [],
      "authorship_tag": "ABX9TyOjRYpkd0Xp01XLqv5Os0Qc",
      "include_colab_link": true
    },
    "kernelspec": {
      "name": "python3",
      "display_name": "Python 3"
    },
    "language_info": {
      "name": "python"
    }
  },
  "cells": [
    {
      "cell_type": "markdown",
      "metadata": {
        "id": "view-in-github",
        "colab_type": "text"
      },
      "source": [
        "<a href=\"https://colab.research.google.com/github/upendrasapati/sapati/blob/main/variables2.ipynb\" target=\"_parent\"><img src=\"https://colab.research.google.com/assets/colab-badge.svg\" alt=\"Open In Colab\"/></a>"
      ]
    },
    {
      "cell_type": "code",
      "execution_count": 3,
      "metadata": {
        "colab": {
          "base_uri": "https://localhost:8080/"
        },
        "id": "ZGDEJoeX46y6",
        "outputId": "849783ac-4117-4399-e8bb-50a91b031c22"
      },
      "outputs": [
        {
          "output_type": "stream",
          "name": "stdout",
          "text": [
            "1140\n",
            "10.363636363636363\n"
          ]
        }
      ],
      "source": [
        "#code for finding the no of books can purchase\n",
        "a=200\n",
        "b=300\n",
        "c=600\n",
        "d=40\n",
        "t=a+b+c+d\n",
        "print(t)\n",
        "noofbooks=t/110\n",
        "print(noofbooks)\n"
      ]
    },
    {
      "cell_type": "code",
      "source": [
        "x=int(input(\"enter value: for x\"))\n",
        "for i in range (1,x):\n",
        "  i=i+1\n",
        "  print(\"im a fool\")\n"
      ],
      "metadata": {
        "colab": {
          "base_uri": "https://localhost:8080/"
        },
        "id": "-UQ-1g6j6PUB",
        "outputId": "2e579564-4c35-445e-9dc3-310d38dc1893"
      },
      "execution_count": 14,
      "outputs": [
        {
          "output_type": "stream",
          "name": "stdout",
          "text": [
            "enter value: for x10\n",
            "im a fool\n",
            "im a fool\n",
            "im a fool\n",
            "im a fool\n",
            "im a fool\n",
            "im a fool\n",
            "im a fool\n",
            "im a fool\n",
            "im a fool\n"
          ]
        }
      ]
    },
    {
      "cell_type": "code",
      "source": [
        "sum=10\n",
        "def calculate():\n",
        "    csum=200\n",
        "    tsum=sum+csum\n",
        "    print(tsum)\n",
        "calculate()\n",
        "    "
      ],
      "metadata": {
        "colab": {
          "base_uri": "https://localhost:8080/"
        },
        "id": "4LU8LRFr-lBD",
        "outputId": "3a288a4b-b9e1-44f8-c545-ff17005ea297"
      },
      "execution_count": 21,
      "outputs": [
        {
          "output_type": "stream",
          "name": "stdout",
          "text": [
            "210\n"
          ]
        }
      ]
    },
    {
      "cell_type": "code",
      "source": [
        "sum=10\n",
        "def calculate():\n",
        "    global sum\n",
        "    csum= sum+200\n",
        "    tsum=sum+csum\n",
        "    print(tsum)\n",
        "calculate()\n",
        "print(sum)\n",
        "    "
      ],
      "metadata": {
        "colab": {
          "base_uri": "https://localhost:8080/"
        },
        "id": "6m-pO6Ev_7sI",
        "outputId": "a8e8e45e-d2c1-4a41-9ca1-1125457ef632"
      },
      "execution_count": 24,
      "outputs": [
        {
          "output_type": "stream",
          "name": "stdout",
          "text": [
            "220\n",
            "10\n"
          ]
        }
      ]
    },
    {
      "cell_type": "code",
      "source": [
        "pin,cash=input('enter ur cash').split('$$')\n",
        "cashValue=int(cash)\n",
        "#print(type(cashValue))\n",
        "atmamount=50000\n",
        "remainamount=atmamount-cashValue\n",
        "#print('take ur cash',cash,remainamount,sep=\"-->\",end=\"===\")\n",
        "#print('thank you',end=\"\\t\")\n",
        "print('take your cash{},balance in your account is{}'.format(cashValue,remainamount),sep='-->',end=\"===\")"
      ],
      "metadata": {
        "colab": {
          "base_uri": "https://localhost:8080/"
        },
        "id": "yVfE61DGCu1V",
        "outputId": "87d7d518-12a3-41b9-8acd-69f7b08bd0cb"
      },
      "execution_count": 47,
      "outputs": [
        {
          "output_type": "stream",
          "name": "stdout",
          "text": [
            "enter ur cash1234$$23909\n",
            "take your cash23909,balance in your account is26091==="
          ]
        }
      ]
    },
    {
      "cell_type": "code",
      "source": [
        ""
      ],
      "metadata": {
        "id": "LsSSi37QP_y8"
      },
      "execution_count": null,
      "outputs": []
    }
  ]
}